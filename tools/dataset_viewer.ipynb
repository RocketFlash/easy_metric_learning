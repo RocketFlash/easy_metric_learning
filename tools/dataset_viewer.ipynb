{
 "cells": [
  {
   "cell_type": "markdown",
   "id": "65d93b4a-1caf-44ba-9c34-a76953c6821f",
   "metadata": {},
   "source": [
    "## Imports"
   ]
  },
  {
   "cell_type": "code",
   "execution_count": null,
   "id": "7cb7e020",
   "metadata": {},
   "outputs": [],
   "source": [
    "import sys\n",
    "sys.path.append(\"../\")\n",
    "\n",
    "import pandas as pd\n",
    "from pathlib import Path\n",
    "\n",
    "from IPython.display import display\n",
    "from src.visualization import DatasetViewer"
   ]
  },
  {
   "cell_type": "markdown",
   "id": "9413352f-482d-4008-8b9e-4bceacef3926",
   "metadata": {},
   "source": [
    "## Dataset Viewer "
   ]
  },
  {
   "cell_type": "code",
   "execution_count": null,
   "id": "9ed5bd83-d96a-4952-9f94-d96af5332817",
   "metadata": {},
   "outputs": [],
   "source": [
    "# dataset_path = Path('/mnt/datasets/metric_learning/datasets_opensource/cars196')\n",
    "# dataset_path = Path('/mnt/datasets/metric_learning/datasets_opensource/inaturalist_2021')\n",
    "# dataset_path = Path('/mnt/datasets/metric_learning/datasets_opensource/CUB_200_2011')\n",
    "# dataset_path = Path('/mnt/datasets/metric_learning/datasets_opensource/Stanford_Online_Products')\n",
    "# dataset_path = Path('/mnt/datasets/metric_learning/datasets_opensource/inshop')\n",
    "# dataset_path = Path('/mnt/datasets/metric_learning/datasets_opensource/met')\n",
    "# dataset_path = Path('/mnt/datasets/metric_learning/datasets_opensource/products10k')\n",
    "# dataset_path = Path('/mnt/datasets/metric_learning/datasets_opensource/rp2k')\n",
    "# dataset_path = Path('/mnt/datasets/metric_learning/datasets_opensource/shopee')\n",
    "# dataset_path = Path('/mnt/datasets/metric_learning/datasets_opensource/largefinefoodai')\n",
    "# dataset_path = Path('/mnt/datasets/metric_learning/datasets_opensource/aliproducts')\n",
    "# dataset_info_csv = dataset_path / 'dataset_info.csv'\n",
    "\n",
    "\n",
    "dataset_path = Path('/datasets/metric_learning/dataset_v0')\n",
    "dataset_info_csv = dataset_path / 'dataset_info_filtered.csv'\n",
    "\n",
    "viewer = DatasetViewer(\n",
    "    dataset_path=dataset_path, \n",
    "    dataset_info_csv=dataset_info_csv\n",
    ")\n",
    "viewer.display()"
   ]
  },
  {
   "cell_type": "code",
   "execution_count": null,
   "id": "0b4de55d-859f-43ca-8118-ccd2ac9a72ba",
   "metadata": {},
   "outputs": [],
   "source": []
  }
 ],
 "metadata": {
  "kernelspec": {
   "display_name": "Python 3 (ipykernel)",
   "language": "python",
   "name": "python3"
  },
  "language_info": {
   "codemirror_mode": {
    "name": "ipython",
    "version": 3
   },
   "file_extension": ".py",
   "mimetype": "text/x-python",
   "name": "python",
   "nbconvert_exporter": "python",
   "pygments_lexer": "ipython3",
   "version": "3.10.13"
  }
 },
 "nbformat": 4,
 "nbformat_minor": 5
}
